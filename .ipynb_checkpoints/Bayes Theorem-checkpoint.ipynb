{
 "cells": [
  {
   "cell_type": "markdown",
   "id": "ed26fc28-f342-4544-acdd-75af668f0245",
   "metadata": {},
   "source": [
    "# Bayes Theorem"
   ]
  },
  {
   "cell_type": "markdown",
   "id": "df99a8bb-35c5-47df-846b-80908df5df0f",
   "metadata": {},
   "source": [
    "Bayes' Theorem helps us update our initial belief about a probability when we get new evidence. For example, if you think there's a 1% chance of a rare disease being in a population, that's your prior probability. After you get a positive test result, your belief in having the disease changes based on the test's accuracy and the false positive rate. Bayes' Theorem uses this new evidence to calculate a more accurate posterior probability, which will likely be higher than your initial belief. It's a way to move from a general guess to a more informed conclusion."
   ]
  },
  {
   "cell_type": "markdown",
   "id": "f9fd0890-65ab-49e4-8901-d7b7ae0478b4",
   "metadata": {},
   "source": [
    "That's important because Bayes' Theorem prevents us from misinterpreting a piece of evidence. It shows that a positive test result doesn't automatically mean a high probability of having the disease. Without it, people might panic over a single positive test, ignoring the crucial fact that the disease is very rare to begin with."
   ]
  },
  {
   "cell_type": "markdown",
   "id": "5d2315e6-027c-4add-a945-809298c8620a",
   "metadata": {},
   "source": [
    "The theorem provides a logical way to combine a general probability (the prevalence of a disease) with a specific piece of information (the test result), leading to a much more accurate, updated probability.  It forces us to consider all factors, including the rate of false positives, which is especially critical for rare events. This kind of careful reasoning is essential in medicine, law, business, and many other fields."
   ]
  },
  {
   "cell_type": "markdown",
   "id": "95f813a6-75fa-48f3-b661-83f4b8d09db4",
   "metadata": {},
   "source": [
    "Spam Filters: A spam filter doesn't just block emails with certain keywords; it calculates the probability that an email is spam given the words it contains, constantly learning from your actions.\n",
    "\n",
    "Robotics: A self-driving car uses Bayes' Theorem to update its belief about its exact location by combining its last known position with new sensor data from its cameras and radar.\n",
    "\n",
    "Finance: An investor can use the theorem to update their forecast of a company's stock price after a new piece of information, like a positive earnings report, is released.\n",
    "\n",
    "Criminal Justice: A jury might use Bayes' Theorem to weigh a piece of forensic evidence, like a DNA match, and update their belief in a defendant's guilt.\n",
    "\n",
    "Machine Learning: The \"Naive Bayes\" algorithm uses the theorem to classify text, such as determining if a movie review has a positive or negative sentiment based on the words used."
   ]
  },
  {
   "cell_type": "markdown",
   "id": "ebd5a561-4c19-4b2d-ae91-42a04f9c180d",
   "metadata": {},
   "source": [
    "## Importing Libraries"
   ]
  },
  {
   "cell_type": "code",
   "execution_count": 2,
   "id": "a6479d99-8cd3-4b41-b1e9-4056abe8dee1",
   "metadata": {},
   "outputs": [
    {
     "name": "stdout",
     "output_type": "stream",
     "text": [
      "Importing successful\n"
     ]
    }
   ],
   "source": [
    "try:\n",
    "    import pandas as pd\n",
    "    import seaborn as sns\n",
    "    import matplotlib.pyplot as plt\n",
    "    print('Importing successful')\n",
    "    \n",
    "except ImportError:\n",
    "    pass"
   ]
  },
  {
   "cell_type": "markdown",
   "id": "656f03a9-d52d-43e8-b9df-b699d344c3a6",
   "metadata": {},
   "source": [
    "## Define the known Probabilities"
   ]
  },
  {
   "cell_type": "code",
   "execution_count": 3,
   "id": "f5258ae5-7a29-4761-bf52-27dd0775986f",
   "metadata": {},
   "outputs": [],
   "source": [
    "# --- 1. Define the known probabilities ---\n",
    "# P(A): Probability of having the disease (prevalence)\n",
    "p_a = 0.01\n",
    "\n",
    "# P(B|A): Probability of a positive test given you have the disease\n",
    "p_b_given_a = 0.99\n",
    "\n",
    "# P(B|~A): Probability of a positive test given you do NOT have the disease (false positive)\n",
    "p_b_given_not_a = 0.05\n",
    "\n",
    "# P(~A): Probability of not having the disease\n",
    "p_not_a = 1 - p_a"
   ]
  },
  {
   "cell_type": "markdown",
   "id": "ed8714cb-6324-4104-9b7b-f380d5353be7",
   "metadata": {},
   "source": [
    "## Using Law of Probability"
   ]
  },
  {
   "cell_type": "code",
   "execution_count": 4,
   "id": "1110054e-a2ec-4df1-b5f8-11b8cbefab19",
   "metadata": {},
   "outputs": [],
   "source": [
    "# P(B) using the Law of Total Probability\n",
    "# P(B) = P(B|A) * P(A) + P(B|~A) * P(~A)\n",
    "p_b = (p_b_given_a * p_a) + (p_b_given_not_a * p_not_a)"
   ]
  },
  {
   "cell_type": "markdown",
   "id": "d026fd44-2df2-44d0-a7b9-fb0207e08928",
   "metadata": {},
   "source": [
    "## Bayes Theorem"
   ]
  },
  {
   "cell_type": "code",
   "execution_count": 5,
   "id": "6e81aa69-405a-454f-92e4-300d068b93d4",
   "metadata": {},
   "outputs": [],
   "source": [
    "# --- 3. Calculate P(A|B) using Bayes' Theorem ---\n",
    "# P(A|B) = [P(B|A) * P(A)] / P(B)\n",
    "p_a_given_b = (p_b_given_a * p_a) / p_b"
   ]
  },
  {
   "cell_type": "markdown",
   "id": "562f1dd0-e8f9-4596-97a6-2930a3bc3f36",
   "metadata": {},
   "source": [
    "## Print the Results"
   ]
  },
  {
   "cell_type": "code",
   "execution_count": 6,
   "id": "7d9c81e8-2cc5-4da9-9d15-e2717bd081ae",
   "metadata": {},
   "outputs": [
    {
     "name": "stdout",
     "output_type": "stream",
     "text": [
      "Prior Probability of having the disease P(A): 0.0100\n",
      "Probability of a positive test P(B): 0.0594\n",
      "Posterior Probability of having the disease GIVEN a positive test P(A|B): 0.1667\n"
     ]
    }
   ],
   "source": [
    "print(f\"Prior Probability of having the disease P(A): {p_a:.4f}\")\n",
    "print(f\"Probability of a positive test P(B): {p_b:.4f}\")\n",
    "print(f\"Posterior Probability of having the disease GIVEN a positive test P(A|B): {p_a_given_b:.4f}\")"
   ]
  },
  {
   "cell_type": "markdown",
   "id": "7dfd2b93-1dfd-49b2-8a1d-8f83ab471e4b",
   "metadata": {},
   "source": [
    "## Plot the Results"
   ]
  },
  {
   "cell_type": "code",
   "execution_count": 9,
   "id": "f5e51446-9dd0-452a-8fce-01ac722174c7",
   "metadata": {},
   "outputs": [
    {
     "data": {
      "image/png": "[encoded data removed]",
      "text/plain": [
       "<Figure size 1000x600 with 1 Axes>"
      ]
     },
     "metadata": {},
     "output_type": "display_data"
    }
   ],
   "source": [
    "\n",
    "data = {\n",
    "    'Probability Type': ['Prior Probability (P(A))', 'Posterior Probability (P(A|B))'],\n",
    "    'Value': [p_a, p_a_given_b]\n",
    "}\n",
    "\n",
    "plot_df = pd.DataFrame(data)\n",
    "\n",
    "\n",
    "# --- Create Seaborn Bar Chart ---\n",
    "plt.figure(figsize=(10, 6))\n",
    "sns.set_style(\"whitegrid\")\n",
    "barplot = sns.barplot(\n",
    "    x='Probability Type',  # Correct column name\n",
    "    y='Value',             # Correct column name\n",
    "    hue='Probability Type', # Assign the same variable to hue as x\n",
    "    data=plot_df,\n",
    "    palette='viridis',\n",
    "    legend=False\n",
    ")\n",
    "\n",
    "# Add value labels on top of the bars\n",
    "for p in barplot.patches:\n",
    "    barplot.annotate(f'{p.get_height():.2f}',\n",
    "                   (p.get_x() + p.get_width() / 2., p.get_height()),\n",
    "                   ha='center', va='center',\n",
    "                   xytext=(0, 9),\n",
    "                   textcoords='offset points')\n",
    "\n",
    "plt.title('Bayes\\' Theorem: Prior vs. Posterior Probability')\n",
    "plt.ylabel('Probability')\n",
    "plt.xlabel('')\n",
    "plt.ylim(0, 1.0)\n",
    "plt.show()\n",
    "\n"
   ]
  },
  {
   "cell_type": "markdown",
   "id": "6435464a-ed3c-4828-853f-d5bb99f22bd9",
   "metadata": {},
   "source": [
    "Based on the code, the chart shows two bars that visually compare the prior probability and the posterior probability of having a disease. The core relationship between these two bars perfectly illustrates the main idea behind Bayes' Theorem.\n",
    "\n",
    "What You See in the Chart\n",
    "The \"Prior Probability (P(A))\" Bar: This bar represents your initial belief. With a value of 0.01, it shows that a random person has a very low 1% chance of having the disease before any testing is done. This is the baseline probability for the entire population.\n",
    "\n",
    "The \"Posterior Probability (P(A|B))\" Bar: This bar represents your updated belief after getting new evidence. The chart's height for this bar will be approximately 0.17, showing that after receiving a positive test result, the probability of having the disease increases to about 17%."
   ]
  },
  {
   "cell_type": "markdown",
   "id": "40943a63-28dc-4e4d-b07a-662a01423f1b",
   "metadata": {},
   "source": [
    "The change in height from the first bar to the second is the direct result of Bayes' Theorem at work. The theorem updates your prior belief (the initial, low probability of having the disease) with the new evidence (the positive test result) to give you a more accurate posterior probability.\n",
    "\n",
    "The chart is powerful because it shows a crucial, non-obvious insight: even with a highly accurate test (99%), a positive result doesn't guarantee you have the disease. Because the disease is so rare to begin with, the positive test is more likely to be a false positive than a true case of the disease. The bar for the posterior probability shows that while your belief is now much stronger than your prior belief, it is still far from 100%. This is the essence of Bayes' Theorem—it provides a logical framework for updating probabilities in a way that avoids jumping to conclusions based on a single piece of evidence."
   ]
  },
  {
   "cell_type": "code",
   "execution_count": null,
   "id": "954440af-b9c2-46d8-8596-3a8fc0724591",
   "metadata": {},
   "outputs": [],
   "source": []
  }
 ],
 "metadata": {
  "kernelspec": {
   "display_name": "conda_python3",
   "language": "python",
   "name": "conda_python3"
  },
  "language_info": {
   "codemirror_mode": {
    "name": "ipython",
    "version": 3
   },
   "file_extension": ".py",
   "mimetype": "text/x-python",
   "name": "python",
   "nbconvert_exporter": "python",
   "pygments_lexer": "ipython3",
   "version": "3.10.18"
  }
 },
 "nbformat": 4,
 "nbformat_minor": 5
}
