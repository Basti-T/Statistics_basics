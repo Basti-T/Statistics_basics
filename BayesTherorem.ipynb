{
 "cells": [
  {
   "cell_type": "markdown",
   "id": "39151edc-a1ec-400e-9109-84aa44300326",
   "metadata": {},
   "source": [
    "# Test for Bayes Theorem"
   ]
  },
  {
   "cell_type": "code",
   "execution_count": null,
   "id": "8d940de1-883d-4624-adfb-6f3b38a659cd",
   "metadata": {},
   "outputs": [],
   "source": []
  }
 ],
 "metadata": {
  "kernelspec": {
   "display_name": "conda_python3",
   "language": "python",
   "name": "conda_python3"
  },
  "language_info": {
   "codemirror_mode": {
    "name": "ipython",
    "version": 3
   },
   "file_extension": ".py",
   "mimetype": "text/x-python",
   "name": "python",
   "nbconvert_exporter": "python",
   "pygments_lexer": "ipython3",
   "version": "3.10.18"
  }
 },
 "nbformat": 4,
 "nbformat_minor": 5
}
