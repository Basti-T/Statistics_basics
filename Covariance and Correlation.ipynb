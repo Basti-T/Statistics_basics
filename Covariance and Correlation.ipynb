{
 "cells": [
  {
   "cell_type": "markdown",
   "id": "a294e4c8-df02-472a-bf96-b7e35f4b02d8",
   "metadata": {},
   "source": [
    "# Covariance and Correlation"
   ]
  },
  {
   "cell_type": "markdown",
   "id": "d3281353-8b4f-4041-8155-32a05ca68146",
   "metadata": {},
   "source": [
    "Covariance measures how two variables change together. A positive covariance indicates that as one variable increases, the other tends to increase, while a negative covariance means they tend to move in opposite directions.\n",
    "\n",
    "Correlation is a standardized version of covariance, indicating both the strength and direction of a linear relationship between two variables, with values ranging from -1 (perfect negative correlation) to +1 (perfect positive correlation)."
   ]
  },
  {
   "cell_type": "markdown",
   "id": "7a4c1bbd-d595-4108-ad46-c79182074da5",
   "metadata": {},
   "source": [
    "## Importing Libraries"
   ]
  },
  {
   "cell_type": "code",
   "execution_count": 3,
   "id": "712d0f44-e531-4aef-b831-1d57f710daea",
   "metadata": {},
   "outputs": [
    {
     "name": "stdout",
     "output_type": "stream",
     "text": [
      "Importing successful\n"
     ]
    }
   ],
   "source": [
    "try:\n",
    "    import pandas as pd\n",
    "    import numpy as np\n",
    "    import matplotlib.pyplot as plt\n",
    "    import seaborn as sns\n",
    "    print('Importing successful')\n",
    "    \n",
    "except ImportError:\n",
    "    pass"
   ]
  },
  {
   "cell_type": "markdown",
   "id": "b5f9e8ee-a09a-4d80-8e33-95cf5b05836a",
   "metadata": {},
   "source": [
    "## Import Data"
   ]
  },
  {
   "cell_type": "code",
   "execution_count": 4,
   "id": "a2b06caa-d5b4-459d-bbb1-10fdc4a8a1e7",
   "metadata": {},
   "outputs": [
    {
     "name": "stdout",
     "output_type": "stream",
     "text": [
      "Data imported\n"
     ]
    }
   ],
   "source": [
    "df = pd.read_csv('cars_data.csv')\n",
    "print('Data imported')\n"
   ]
  },
  {
   "cell_type": "code",
   "execution_count": 5,
   "id": "fcc473a2-7eb9-4876-824d-485973ad5322",
   "metadata": {},
   "outputs": [
    {
     "data": {
      "text/html": [
       "<div>\n",
       "<style scoped>\n",
       "    .dataframe tbody tr th:only-of-type {\n",
       "        vertical-align: middle;\n",
       "    }\n",
       "\n",
       "    .dataframe tbody tr th {\n",
       "        vertical-align: top;\n",
       "    }\n",
       "\n",
       "    .dataframe thead th {\n",
       "        text-align: right;\n",
       "    }\n",
       "</style>\n",
       "<table border=\"1\" class=\"dataframe\">\n",
       "  <thead>\n",
       "    <tr style=\"text-align: right;\">\n",
       "      <th></th>\n",
       "      <th>manufacturer</th>\n",
       "      <th>model</th>\n",
       "      <th>year</th>\n",
       "      <th>engine_power</th>\n",
       "      <th>fuel_type</th>\n",
       "      <th>transmission</th>\n",
       "      <th>odometr</th>\n",
       "      <th>price</th>\n",
       "      <th>region</th>\n",
       "      <th>description</th>\n",
       "      <th>price_category</th>\n",
       "    </tr>\n",
       "  </thead>\n",
       "  <tbody>\n",
       "    <tr>\n",
       "      <th>0</th>\n",
       "      <td>Chevrolet</td>\n",
       "      <td>Nexia 3</td>\n",
       "      <td>2022.0</td>\n",
       "      <td>1.5</td>\n",
       "      <td>Benzin</td>\n",
       "      <td>Avtomat</td>\n",
       "      <td>8500</td>\n",
       "      <td>12500.0</td>\n",
       "      <td>Tashkent</td>\n",
       "      <td>2022 yil,\\n                        \\n         ...</td>\n",
       "      <td>high</td>\n",
       "    </tr>\n",
       "    <tr>\n",
       "      <th>1</th>\n",
       "      <td>Chevrolet</td>\n",
       "      <td>Spark</td>\n",
       "      <td>2017.0</td>\n",
       "      <td>1.3</td>\n",
       "      <td>Gaz-benzin</td>\n",
       "      <td>Mexanika</td>\n",
       "      <td>300000</td>\n",
       "      <td>6500.0</td>\n",
       "      <td>Khorezm</td>\n",
       "      <td>2017 yil,\\n                        \\n         ...</td>\n",
       "      <td>low</td>\n",
       "    </tr>\n",
       "    <tr>\n",
       "      <th>2</th>\n",
       "      <td>Chevrolet</td>\n",
       "      <td>Gentra</td>\n",
       "      <td>2023.0</td>\n",
       "      <td>1.6</td>\n",
       "      <td>Benzin</td>\n",
       "      <td>Avtomat</td>\n",
       "      <td>23000</td>\n",
       "      <td>15800.0</td>\n",
       "      <td>Andijan</td>\n",
       "      <td>2023 yil,\\n                        \\n         ...</td>\n",
       "      <td>high</td>\n",
       "    </tr>\n",
       "    <tr>\n",
       "      <th>3</th>\n",
       "      <td>Mercedes-Benz</td>\n",
       "      <td>E 230</td>\n",
       "      <td>1985.0</td>\n",
       "      <td>1.8</td>\n",
       "      <td>Gaz-benzin</td>\n",
       "      <td>Mexanika</td>\n",
       "      <td>395000</td>\n",
       "      <td>5000.0</td>\n",
       "      <td>Namangan</td>\n",
       "      <td>1985 yil,\\n                        \\n         ...</td>\n",
       "      <td>low</td>\n",
       "    </tr>\n",
       "    <tr>\n",
       "      <th>4</th>\n",
       "      <td>Chevrolet</td>\n",
       "      <td>Lacetti</td>\n",
       "      <td>2010.0</td>\n",
       "      <td>1.8</td>\n",
       "      <td>Gaz-benzin</td>\n",
       "      <td>Avtomat</td>\n",
       "      <td>147000</td>\n",
       "      <td>7500.0</td>\n",
       "      <td>Tashkent</td>\n",
       "      <td>2010 yil,\\n                        \\n         ...</td>\n",
       "      <td>middle</td>\n",
       "    </tr>\n",
       "  </tbody>\n",
       "</table>\n",
       "</div>"
      ],
      "text/plain": [
       "    manufacturer    model    year  engine_power   fuel_type transmission  \\\n",
       "0      Chevrolet  Nexia 3  2022.0           1.5      Benzin      Avtomat   \n",
       "1      Chevrolet    Spark  2017.0           1.3  Gaz-benzin     Mexanika   \n",
       "2      Chevrolet   Gentra  2023.0           1.6      Benzin      Avtomat   \n",
       "3  Mercedes-Benz    E 230  1985.0           1.8  Gaz-benzin     Mexanika   \n",
       "4      Chevrolet  Lacetti  2010.0           1.8  Gaz-benzin      Avtomat   \n",
       "\n",
       "   odometr    price    region  \\\n",
       "0     8500  12500.0  Tashkent   \n",
       "1   300000   6500.0   Khorezm   \n",
       "2    23000  15800.0   Andijan   \n",
       "3   395000   5000.0  Namangan   \n",
       "4   147000   7500.0  Tashkent   \n",
       "\n",
       "                                         description price_category  \n",
       "0  2022 yil,\\n                        \\n         ...           high  \n",
       "1  2017 yil,\\n                        \\n         ...            low  \n",
       "2  2023 yil,\\n                        \\n         ...           high  \n",
       "3  1985 yil,\\n                        \\n         ...            low  \n",
       "4  2010 yil,\\n                        \\n         ...         middle  "
      ]
     },
     "execution_count": 5,
     "metadata": {},
     "output_type": "execute_result"
    }
   ],
   "source": [
    "df.head()"
   ]
  },
  {
   "cell_type": "code",
   "execution_count": 7,
   "id": "568e269f-f2ad-4e99-8cb5-ad41f1df1580",
   "metadata": {},
   "outputs": [
    {
     "data": {
      "text/plain": [
       "manufacturer       object\n",
       "model              object\n",
       "year              float64\n",
       "engine_power      float64\n",
       "fuel_type          object\n",
       "transmission       object\n",
       "odometr             int64\n",
       "price             float64\n",
       "region             object\n",
       "description        object\n",
       "price_category     object\n",
       "dtype: object"
      ]
     },
     "execution_count": 7,
     "metadata": {},
     "output_type": "execute_result"
    }
   ],
   "source": [
    "df.dtypes"
   ]
  },
  {
   "cell_type": "code",
   "execution_count": 10,
   "id": "4969588c-8e49-4394-ba0b-9fdcaa4ebb5e",
   "metadata": {},
   "outputs": [],
   "source": [
    "df2 = df[['year', 'engine_power', 'odometr', 'price']]"
   ]
  },
  {
   "cell_type": "code",
   "execution_count": 12,
   "id": "1325baa3-98d6-41b0-b02b-b4c463215ca5",
   "metadata": {},
   "outputs": [
    {
     "data": {
      "text/html": [
       "<div>\n",
       "<style scoped>\n",
       "    .dataframe tbody tr th:only-of-type {\n",
       "        vertical-align: middle;\n",
       "    }\n",
       "\n",
       "    .dataframe tbody tr th {\n",
       "        vertical-align: top;\n",
       "    }\n",
       "\n",
       "    .dataframe thead th {\n",
       "        text-align: right;\n",
       "    }\n",
       "</style>\n",
       "<table border=\"1\" class=\"dataframe\">\n",
       "  <thead>\n",
       "    <tr style=\"text-align: right;\">\n",
       "      <th></th>\n",
       "      <th>year</th>\n",
       "      <th>engine_power</th>\n",
       "      <th>odometr</th>\n",
       "      <th>price</th>\n",
       "    </tr>\n",
       "  </thead>\n",
       "  <tbody>\n",
       "    <tr>\n",
       "      <th>count</th>\n",
       "      <td>3647.000000</td>\n",
       "      <td>3657.000000</td>\n",
       "      <td>3.657000e+03</td>\n",
       "      <td>3657.000000</td>\n",
       "    </tr>\n",
       "    <tr>\n",
       "      <th>mean</th>\n",
       "      <td>2015.681656</td>\n",
       "      <td>1.553913</td>\n",
       "      <td>1.361803e+05</td>\n",
       "      <td>10159.757998</td>\n",
       "    </tr>\n",
       "    <tr>\n",
       "      <th>std</th>\n",
       "      <td>7.696581</td>\n",
       "      <td>0.623473</td>\n",
       "      <td>1.781281e+05</td>\n",
       "      <td>8037.630982</td>\n",
       "    </tr>\n",
       "    <tr>\n",
       "      <th>min</th>\n",
       "      <td>1958.000000</td>\n",
       "      <td>0.800000</td>\n",
       "      <td>0.000000e+00</td>\n",
       "      <td>434.000000</td>\n",
       "    </tr>\n",
       "    <tr>\n",
       "      <th>25%</th>\n",
       "      <td>2012.000000</td>\n",
       "      <td>1.300000</td>\n",
       "      <td>3.000000e+04</td>\n",
       "      <td>6000.000000</td>\n",
       "    </tr>\n",
       "    <tr>\n",
       "      <th>50%</th>\n",
       "      <td>2018.000000</td>\n",
       "      <td>1.500000</td>\n",
       "      <td>9.200000e+04</td>\n",
       "      <td>9000.000000</td>\n",
       "    </tr>\n",
       "    <tr>\n",
       "      <th>75%</th>\n",
       "      <td>2021.000000</td>\n",
       "      <td>1.600000</td>\n",
       "      <td>1.950000e+05</td>\n",
       "      <td>12600.000000</td>\n",
       "    </tr>\n",
       "    <tr>\n",
       "      <th>max</th>\n",
       "      <td>2024.000000</td>\n",
       "      <td>8.000000</td>\n",
       "      <td>4.011000e+06</td>\n",
       "      <td>199900.000000</td>\n",
       "    </tr>\n",
       "  </tbody>\n",
       "</table>\n",
       "</div>"
      ],
      "text/plain": [
       "              year  engine_power       odometr          price\n",
       "count  3647.000000   3657.000000  3.657000e+03    3657.000000\n",
       "mean   2015.681656      1.553913  1.361803e+05   10159.757998\n",
       "std       7.696581      0.623473  1.781281e+05    8037.630982\n",
       "min    1958.000000      0.800000  0.000000e+00     434.000000\n",
       "25%    2012.000000      1.300000  3.000000e+04    6000.000000\n",
       "50%    2018.000000      1.500000  9.200000e+04    9000.000000\n",
       "75%    2021.000000      1.600000  1.950000e+05   12600.000000\n",
       "max    2024.000000      8.000000  4.011000e+06  199900.000000"
      ]
     },
     "execution_count": 12,
     "metadata": {},
     "output_type": "execute_result"
    }
   ],
   "source": [
    "df2.describe()"
   ]
  },
  {
   "cell_type": "markdown",
   "id": "2b1eb518-350b-44f0-8382-2ec228beb05d",
   "metadata": {},
   "source": [
    "## Covariance"
   ]
  },
  {
   "cell_type": "code",
   "execution_count": 14,
   "id": "69ff5a01-ccde-4925-b5ca-66073ce4dc3f",
   "metadata": {},
   "outputs": [
    {
     "name": "stdout",
     "output_type": "stream",
     "text": [
      "                       year  engine_power       odometr         price\n",
      "year              59.237357     -0.044721 -5.873807e+05  2.615293e+04\n",
      "engine_power      -0.044721      0.388718 -7.078901e+03  2.197202e+03\n",
      "odometr      -587380.699456  -7078.901438  3.172963e+10 -4.006408e+08\n",
      "price          26152.927687   2197.202370 -4.006408e+08  6.460351e+07\n"
     ]
    }
   ],
   "source": [
    "covariance_matrix = df2.cov()\n",
    "print(covariance_matrix)"
   ]
  },
  {
   "cell_type": "markdown",
   "id": "4579b4fc-a8f8-4ec3-a19d-51f91f7b33e5",
   "metadata": {},
   "source": [
    "The diagonal values, such as 59.24 for 'year' and 6.46×10 \n",
    "7\n",
    "  for 'price', represent the variance of each individual variable, showing their spread. Off-diagonal values indicate how two variables change together: for instance, the positive covariance of 2.62×10 \n",
    "4\n",
    "  between 'year' and 'price' suggests that newer cars tend to have higher prices. Conversely, the large negative covariance of −4.01×10 \n",
    "8\n",
    "  between 'odometr' and 'price' implies that as mileage increases, the price generally decreases, highlighting a strong inverse relationship in terms of their joint variability, though the magnitude is heavily influenced by the differing scales of the variables."
   ]
  },
  {
   "cell_type": "markdown",
   "id": "033b10b4-6ae6-46a5-96d5-0c5943e7c606",
   "metadata": {},
   "source": [
    "## Correlation"
   ]
  },
  {
   "cell_type": "code",
   "execution_count": 21,
   "id": "84a15cb3-650c-4300-8c24-a326886e0384",
   "metadata": {},
   "outputs": [
    {
     "name": "stdout",
     "output_type": "stream",
     "text": [
      "                  year  engine_power   odometr     price\n",
      "year          1.000000     -0.009310 -0.428542  0.422353\n",
      "engine_power -0.009310      1.000000 -0.063741  0.438455\n",
      "odometr      -0.428542     -0.063741  1.000000 -0.279830\n",
      "price         0.422353      0.438455 -0.279830  1.000000\n"
     ]
    }
   ],
   "source": [
    "correlation_matrix = df2.corr()\n",
    "print(correlation_matrix)"
   ]
  },
  {
   "cell_type": "code",
   "execution_count": 39,
   "id": "456b5095-d750-4243-8e55-ae38b0ff3a9f",
   "metadata": {},
   "outputs": [
    {
     "data": {
      "image/png": "[encoded data removed]",
      "text/plain": [
       "<Figure size 800x600 with 2 Axes>"
      ]
     },
     "metadata": {},
     "output_type": "display_data"
    }
   ],
   "source": [
    "plt.figure(figsize=(8, 6)) # Adjust figure size as needed\n",
    "\n",
    "# Create the heatmap\n",
    "sns.heatmap(\n",
    "    correlation_matrix,\n",
    "    annot=True,      # Show the correlation values on the heatmap\n",
    "    cmap='RdBu', # Color map: 'coolwarm' is good for showing positive/negative correlations\n",
    "    fmt=\".2f\",       # Format the annotations to two decimal places\n",
    "    linewidths=.5    # Add lines between cells\n",
    ")\n",
    "\n",
    "# Set the title of the heatmap\n",
    "plt.title('Correlation Matrix Heatmap', fontsize=16)\n",
    "\n",
    "# Display the plot\n",
    "plt.show()"
   ]
  },
  {
   "cell_type": "code",
   "execution_count": null,
   "id": "ce2a96e7-9b24-4b3a-8150-237171a6e828",
   "metadata": {},
   "outputs": [],
   "source": []
  }
 ],
 "metadata": {
  "kernelspec": {
   "display_name": "conda_python3",
   "language": "python",
   "name": "conda_python3"
  },
  "language_info": {
   "codemirror_mode": {
    "name": "ipython",
    "version": 3
   },
   "file_extension": ".py",
   "mimetype": "text/x-python",
   "name": "python",
   "nbconvert_exporter": "python",
   "pygments_lexer": "ipython3",
   "version": "3.10.18"
  }
 },
 "nbformat": 4,
 "nbformat_minor": 5
}
