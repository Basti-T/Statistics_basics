{
 "cells": [
  {
   "cell_type": "markdown",
   "id": "0c74a4e3-1d0e-4239-b327-9e0b729120a7",
   "metadata": {},
   "source": [
    "# Moments of Data Distribution"
   ]
  },
  {
   "cell_type": "markdown",
   "id": "0cae406f-453e-4340-9ee0-c6846824b42d",
   "metadata": {},
   "source": [
    "## Importing Libaries"
   ]
  },
  {
   "cell_type": "code",
   "execution_count": null,
   "id": "73f81fc2-5e2a-4825-a33a-28c52bef0086",
   "metadata": {},
   "outputs": [],
   "source": [
    "try:\n",
    "    import numpy as np\n",
    "    import matplotlib.pyplot as plt\n",
    "    import scipy.stats as sp\n",
    "\n",
    "    print('Importing successful')\n",
    "\n",
    "except ImporterError as e:\n",
    "    \n",
    "    print(f\"Importing failed: {e}\")\n",
    "   "
   ]
  },
  {
   "cell_type": "markdown",
   "id": "8a63e7e9-9031-4ff6-ae61-e8dc0ba928ae",
   "metadata": {},
   "source": [
    "## Normal Distribution"
   ]
  },
  {
   "cell_type": "code",
   "execution_count": null,
   "id": "22d7de58-ba72-416d-b2e9-5e0368180336",
   "metadata": {},
   "outputs": [],
   "source": [
    "np.random.seed(23)"
   ]
  },
  {
   "cell_type": "code",
   "execution_count": null,
   "id": "59b7c1f6-6136-4c4f-a658-7ae5e8da8a42",
   "metadata": {},
   "outputs": [],
   "source": [
    "age = np.random.normal(40, 10, 10000)"
   ]
  },
  {
   "cell_type": "code",
   "execution_count": null,
   "id": "9f476f1b-0fc5-4aad-8189-aa091c6d4149",
   "metadata": {},
   "outputs": [],
   "source": [
    "plt.hist(age, 100)\n",
    "plt.show()"
   ]
  },
  {
   "cell_type": "code",
   "execution_count": null,
   "id": "f39357b0-cbd0-45bb-848e-586c64d6bb42",
   "metadata": {},
   "outputs": [],
   "source": [
    "np.mean(age)"
   ]
  },
  {
   "cell_type": "code",
   "execution_count": null,
   "id": "82faf087-7c4a-46a5-bce5-3c720dc08c66",
   "metadata": {},
   "outputs": [],
   "source": [
    "np.var(age)"
   ]
  },
  {
   "cell_type": "code",
   "execution_count": null,
   "id": "a0f7a7f8-a52e-48b5-a6a4-e756a54f4d50",
   "metadata": {},
   "outputs": [],
   "source": [
    "sp.skew(age)"
   ]
  },
  {
   "cell_type": "code",
   "execution_count": null,
   "id": "63343f01-433f-4d91-8a1e-06571663bbe6",
   "metadata": {},
   "outputs": [],
   "source": [
    "sp.kurtosis(age)"
   ]
  },
  {
   "cell_type": "markdown",
   "id": "05ddf7a1-d836-415c-be16-f335bf6d656a",
   "metadata": {},
   "source": [
    "## Exponential Distribution"
   ]
  },
  {
   "cell_type": "code",
   "execution_count": null,
   "id": "ba996add-402a-43ca-8f2f-85620885af38",
   "metadata": {},
   "outputs": [],
   "source": [
    "ages_expo = np.random.exponential(scale=10, size=10000)+20\n",
    "ages_expo = ages_expo.astype(int)"
   ]
  },
  {
   "cell_type": "code",
   "execution_count": null,
   "id": "fd99af64-5669-4b43-8bef-e06d16d68fe3",
   "metadata": {},
   "outputs": [],
   "source": [
    "plt.hist(ages_expo, 100)\n",
    "plt.show()"
   ]
  },
  {
   "cell_type": "code",
   "execution_count": null,
   "id": "133b5b85-8c24-411d-bf3a-24454c3fa103",
   "metadata": {},
   "outputs": [],
   "source": [
    "print(f\"Mean:     {np.mean(ages_expo):.2f}\")\n",
    "print(f\"Median:   {np.median(ages_expo):.2f}\")\n",
    "print(f\"Variance: {np.var(ages_expo):.2f}\")\n",
    "print(f\"Skewness: {sp.skew(ages_expo):.2f}\")\n",
    "print(f\"Kurtosis: {sp.kurtosis(ages_expo, fisher=False):.2f}\")"
   ]
  },
  {
   "cell_type": "markdown",
   "id": "101317a6-108d-4508-9ef0-73b4880e4bf1",
   "metadata": {},
   "source": [
    "## Beta Functions"
   ]
  },
  {
   "cell_type": "code",
   "execution_count": null,
   "id": "2bb3f379-54f3-45dd-a96c-be963e136907",
   "metadata": {},
   "outputs": [],
   "source": [
    "ages_beta = np.random.beta(a=5, b=2, size=10000) * 100"
   ]
  },
  {
   "cell_type": "code",
   "execution_count": null,
   "id": "66d20fa4-31fe-4cba-81a1-0ccde9fe8e05",
   "metadata": {},
   "outputs": [],
   "source": [
    "plt.hist(ages_beta_left, 100)\n",
    "plt.show()"
   ]
  },
  {
   "cell_type": "code",
   "execution_count": null,
   "id": "3c04de5f-8503-414d-ada0-dba867760a1a",
   "metadata": {},
   "outputs": [],
   "source": [
    "print(f\"Mean:     {np.mean(ages_beta):.2f}\")\n",
    "print(f\"Median:   {np.median(ages_beta):.2f}\")\n",
    "print(f\"Variance: {np.var(ages_beta):.2f}\")\n",
    "print(f\"Skewness: {sp.skew(ages_beta):.2f}\")\n",
    "print(f\"Kurtosis: {sp.kurtosis(ages_beta, fisher=False):.2f}\")"
   ]
  },
  {
   "cell_type": "markdown",
   "id": "5622e1d9-7b44-47fd-838f-9bde0423e725",
   "metadata": {},
   "source": [
    "| Metric       | Left-Skewed (Negative) | Symmetric (Normal) | Right-Skewed (Positive) |\n",
    "| ------------ | ---------------------- | ------------------ | ----------------------- |\n",
    "| Shape        | Long tail to left      | Bell curve         | Long tail to right      |\n",
    "| Mean         | < Median               | ≈ Median           | > Median                |\n",
    "| Bulk of Data | Right of Mean          | Around Mean        | Left of Mean            |\n",
    "\n"
   ]
  },
  {
   "cell_type": "code",
   "execution_count": null,
   "id": "ac84a04d-05d6-4eb4-a6b0-4f3fff8eee10",
   "metadata": {},
   "outputs": [],
   "source": [
    "# Distribution settings: (a, b) and interpretation label\n",
    "distributions = [\n",
    "    ((0.5, 0.5), \"U-shaped: Very young and very old dominate\"),\n",
    "    ((2, 5),     \"Right-skewed: More young people\"),\n",
    "    ((5, 2),     \"Left-skewed: More older people\"),\n",
    "    ((2, 2),     \"Uniform: Even distribution across ages\"),\n",
    "    ((5, 5),     \"Bell-shaped: Most people are middle-aged\"),\n",
    "]\n",
    "\n",
    "fig, axs = plt.subplots(len(distributions), 1, figsize=(7, 14))\n",
    "\n",
    "for i, ((a, b), label) in enumerate(distributions):\n",
    "    ages_beta = np.random.beta(a, b, size=10000) * 100\n",
    "    ages_beta = ages_beta.astype(int)\n",
    "\n",
    "    mean = np.mean(ages_beta)\n",
    "    median = np.median(ages_beta)\n",
    "    var = np.var(ages_beta)\n",
    "    skew = sp.skew(ages_beta)\n",
    "    kurt = sp.kurtosis(ages_beta, fisher=False)\n",
    "\n",
    "    axs[i].hist(ages_beta, bins=40, color='lightgray', edgecolor='black')\n",
    "    axs[i].set_title(\n",
    "        f\"{label}\\n\"\n",
    "        f\"Beta({a}, {b}) → Mean={mean:.1f}, Median={median:.1f}, Var={var:.1f}, \"\n",
    "        f\"Skew={skew:.2f}, Kurt={kurt:.2f}\",\n",
    "        fontsize=9\n",
    "    )\n",
    "    axs[i].set_xticks([0, 25, 50, 75, 100])\n",
    "    axs[i].set_yticks([])\n",
    "\n",
    "plt.tight_layout()\n",
    "plt.show()\n",
    "\n"
   ]
  },
  {
   "cell_type": "code",
   "execution_count": null,
   "id": "88cced11-cebf-4f06-a646-4b2f86e8e20e",
   "metadata": {},
   "outputs": [],
   "source": []
  }
 ],
 "metadata": {
  "kernelspec": {
   "display_name": "conda_python3",
   "language": "python",
   "name": "conda_python3"
  },
  "language_info": {
   "codemirror_mode": {
    "name": "ipython",
    "version": 3
   },
   "file_extension": ".py",
   "mimetype": "text/x-python",
   "name": "python",
   "nbconvert_exporter": "python",
   "pygments_lexer": "ipython3",
   "version": "3.10.18"
  }
 },
 "nbformat": 4,
 "nbformat_minor": 5
}
