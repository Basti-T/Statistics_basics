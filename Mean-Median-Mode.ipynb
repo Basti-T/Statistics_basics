{
 "cells": [
  {
   "cell_type": "markdown",
   "id": "f9a5ed0b-f171-4207-901b-49dfb91477c3",
   "metadata": {},
   "source": [
    "# Basic Statistics"
   ]
  },
  {
   "cell_type": "markdown",
   "id": "bb4d8d0e-732c-447d-a5e0-db537136a9d5",
   "metadata": {},
   "source": [
    "## Importing"
   ]
  },
  {
   "cell_type": "code",
   "execution_count": 3,
   "id": "f55231b8-6f5c-4d09-a6ec-b666eb82bfdf",
   "metadata": {},
   "outputs": [
    {
     "name": "stdout",
     "output_type": "stream",
     "text": [
      "Pandas version: 2.2.3\n",
      "NumPy version: 1.26.4\n",
      "Matplotlib version: 3.10.3\n",
      "Scikit-learn version: 1.7.0\n"
     ]
    }
   ],
   "source": [
    "import warnings\n",
    "\n",
    "warnings.filterwarnings('ignore')\n",
    "\n",
    "# Import your libraries as usual\n",
    "import pandas as pd\n",
    "import numpy as np\n",
    "import matplotlib\n",
    "import matplotlib.pyplot as plt\n",
    "import sklearn \n",
    "\n",
    "try:\n",
    "    print(f\"Pandas version: {pd.__version__}\")\n",
    "except AttributeError:\n",
    "    print(\"Pandas installed, but version not found (or problem with import).\")\n",
    "except ImportError:\n",
    "    print(\"Pandas is not installed.\")\n",
    "\n",
    "try:\n",
    "    print(f\"NumPy version: {np.__version__}\")\n",
    "except AttributeError:\n",
    "    print(\"NumPy installed, but version not found (or problem with import).\")\n",
    "except ImportError:\n",
    "    print(\"NumPy is not installed.\")\n",
    "\n",
    "try:\n",
    "    print(f\"Matplotlib version: {matplotlib.__version__}\")\n",
    "except AttributeError:\n",
    "    print(\"Matplotlib installed, but version not found (or problem with import).\")\n",
    "except ImportError:\n",
    "    print(\"Matplotlib is not installed.\")\n",
    "\n",
    "try:\n",
    "    print(f\"Scikit-learn version: {sklearn.__version__}\")\n",
    "except AttributeError:\n",
    "    print(\"Scikit-learn installed, but version not found (or problem with import).\")\n",
    "except ImportError:\n",
    "    print(\"Scikit-learn is not installed.\")\n"
   ]
  },
  {
   "cell_type": "markdown",
   "id": "c969561e-dc45-4178-8053-7a61bfcdb37b",
   "metadata": {},
   "source": [
    "## Mean vs. Median"
   ]
  },
  {
   "cell_type": "code",
   "execution_count": 17,
   "id": "8592055c-1da0-483b-b85e-2f9710fd6829",
   "metadata": {},
   "outputs": [],
   "source": [
    "incomes = np.random.normal(30000,15000,100)"
   ]
  },
  {
   "cell_type": "code",
   "execution_count": 18,
   "id": "9f500db3-f2b3-4dc7-b06f-acee71529def",
   "metadata": {},
   "outputs": [
    {
     "name": "stdout",
     "output_type": "stream",
     "text": [
      "The Mean is \n"
     ]
    },
    {
     "data": {
      "text/plain": [
       "30377.44863208495"
      ]
     },
     "execution_count": 18,
     "metadata": {},
     "output_type": "execute_result"
    }
   ],
   "source": [
    "print('The Mean is ')\n",
    "np.mean(incomes)"
   ]
  },
  {
   "cell_type": "code",
   "execution_count": 19,
   "id": "21a5c459-1e7e-4d67-a96d-191f2614fb25",
   "metadata": {},
   "outputs": [
    {
     "name": "stdout",
     "output_type": "stream",
     "text": [
      "Histogram with 5 Buckets \n"
     ]
    },
    {
     "data": {
      "image/png": "[encoded data removed]",
      "text/plain": [
       "<Figure size 640x480 with 1 Axes>"
      ]
     },
     "metadata": {},
     "output_type": "display_data"
    }
   ],
   "source": [
    "print('Histogram with 5 Buckets ')\n",
    "plt.hist(incomes, 5)\n",
    "plt.show()"
   ]
  },
  {
   "cell_type": "code",
   "execution_count": 20,
   "id": "bcabc179-5bc3-452b-8f9e-086921ea70d3",
   "metadata": {},
   "outputs": [
    {
     "name": "stdout",
     "output_type": "stream",
     "text": [
      "Histogram with 100 Buckets \n"
     ]
    },
    {
     "data": {
      "image/png": "[encoded data removed]",
      "text/plain": [
       "<Figure size 640x480 with 1 Axes>"
      ]
     },
     "metadata": {},
     "output_type": "display_data"
    }
   ],
   "source": [
    "print('Histogram with 100 Buckets ')\n",
    "plt.hist(incomes, 100)\n",
    "plt.show()"
   ]
  },
  {
   "cell_type": "code",
   "execution_count": 21,
   "id": "d26651dc-4d55-4c1e-b4a4-e5ad141ae846",
   "metadata": {},
   "outputs": [
    {
     "name": "stdout",
     "output_type": "stream",
     "text": [
      "The Median is \n"
     ]
    },
    {
     "data": {
      "text/plain": [
       "30464.178132891324"
      ]
     },
     "execution_count": 21,
     "metadata": {},
     "output_type": "execute_result"
    }
   ],
   "source": [
    "print('The Median is ')\n",
    "np.median(incomes)"
   ]
  },
  {
   "cell_type": "code",
   "execution_count": 22,
   "id": "73109dd8-4708-4a56-abe7-9d0ea02c7275",
   "metadata": {},
   "outputs": [],
   "source": [
    "incomes_new = np.append(incomes, [10000000])"
   ]
  },
  {
   "cell_type": "code",
   "execution_count": 24,
   "id": "dbd499a0-701a-4925-8a35-b28388683329",
   "metadata": {},
   "outputs": [
    {
     "name": "stdout",
     "output_type": "stream",
     "text": [
      "New Mean \n"
     ]
    },
    {
     "data": {
      "text/plain": [
       "129086.5828040445"
      ]
     },
     "execution_count": 24,
     "metadata": {},
     "output_type": "execute_result"
    }
   ],
   "source": [
    "print('New Mean ')\n",
    "np.mean(incomes_new)"
   ]
  },
  {
   "cell_type": "code",
   "execution_count": 25,
   "id": "a2032584-5dd0-4549-844b-dc255324e8f5",
   "metadata": {},
   "outputs": [
    {
     "name": "stdout",
     "output_type": "stream",
     "text": [
      "New Median \n"
     ]
    },
    {
     "data": {
      "text/plain": [
       "30513.684518415823"
      ]
     },
     "execution_count": 25,
     "metadata": {},
     "output_type": "execute_result"
    }
   ],
   "source": [
    "print('New Median ')\n",
    "np.median(incomes_new)"
   ]
  },
  {
   "cell_type": "markdown",
   "id": "46811234-c45b-4229-9706-0eaefc95f26f",
   "metadata": {},
   "source": [
    "### Are there outliers better use the Median and not Mean as Outliers can screw your Mean significantlly"
   ]
  },
  {
   "cell_type": "markdown",
   "id": "70ac1a56-a1d1-45a7-a67e-20d0e0be846e",
   "metadata": {},
   "source": [
    "## Mode"
   ]
  },
  {
   "cell_type": "code",
   "execution_count": 38,
   "id": "96566739-6c81-4319-8cdd-76df4ababd33",
   "metadata": {},
   "outputs": [],
   "source": [
    "np.random.seed(42)\n",
    "ages = np.random.randint(16, high=80, size=1000)"
   ]
  },
  {
   "cell_type": "code",
   "execution_count": 39,
   "id": "42c5b58c-93ef-4551-992b-53cb49a698c5",
   "metadata": {},
   "outputs": [
    {
     "data": {
      "text/plain": [
       "array([54, 67, 44, 30, 58, 23, 76, 36, 54, 73, 34, 38, 26, 26, 39, 68, 51,\n",
       "       55, 39, 18, 37, 68, 17, 39, 59, 45, 53, 17, 79, 75, 36, 48, 27, 73,\n",
       "       37, 76, 59, 40, 64, 42, 74, 78, 57, 79, 43, 75, 31, 30, 77, 77, 62,\n",
       "       77, 66, 59, 70, 67, 79, 72, 18, 52, 66, 22, 36, 24, 54, 33, 19, 40,\n",
       "       75, 29, 65, 73, 24, 41, 68, 17, 35, 43, 62, 75, 22, 59, 76, 23, 62,\n",
       "       50, 29, 32, 51, 65, 55, 19, 17, 77, 21, 69, 57, 19, 69, 44, 78, 33,\n",
       "       41, 59, 49, 25, 77, 51, 29, 46, 63, 30, 23, 29, 38, 75, 72, 77, 55,\n",
       "       36, 31, 60, 33, 62, 68, 39, 41, 40, 75, 75, 75, 60, 56, 44, 30, 60,\n",
       "       16, 40, 22, 24, 39, 16, 59, 23, 39, 78, 26, 66, 32, 23, 50, 50, 48,\n",
       "       74, 20, 57, 54, 73, 56, 43, 22, 24, 23, 27, 49, 48, 63, 70, 38, 77,\n",
       "       39, 52, 50, 59, 55, 37, 42, 50, 16, 50, 52, 62, 29, 18, 16, 20, 41,\n",
       "       70, 78, 29, 54, 42, 24, 30, 30, 41, 57, 75, 28, 66, 78, 47, 54, 64,\n",
       "       67, 76, 47, 19, 45, 52, 38, 54, 60, 30, 58, 44, 51, 28, 47, 22, 74,\n",
       "       66, 37, 43, 17, 57, 60, 77, 72, 68, 21, 43, 43, 59, 59, 35, 45, 77,\n",
       "       26, 79, 73, 70, 43, 40, 54, 77, 48, 16, 72, 42, 77, 72, 67, 28, 56,\n",
       "       18, 54, 21, 23, 42, 24, 77, 52, 48, 66, 57, 59, 39, 30, 74, 69, 47,\n",
       "       47, 39, 56, 67, 64, 77, 64, 73, 67, 27, 77, 54, 17, 18, 64, 52, 64,\n",
       "       71, 32, 74, 64, 17, 17, 43, 69, 38, 52, 47, 48, 16, 34, 77, 17, 68,\n",
       "       59, 41, 47, 21, 47, 70, 19, 70, 26, 71, 74, 32, 78, 53, 39, 20, 67,\n",
       "       49, 21, 37, 26, 78, 63, 31, 48, 24, 75, 74, 21, 31, 44, 18, 35, 75,\n",
       "       74, 51, 34, 41, 18, 78, 34, 35, 47, 22, 67, 56, 48, 55, 79, 54, 33,\n",
       "       55, 16, 26, 43, 72, 40, 65, 38, 46, 45, 57, 50, 22, 75, 31, 41, 63,\n",
       "       72, 67, 75, 64, 17, 16, 63, 77, 27, 20, 52, 47, 74, 70, 24, 56, 50,\n",
       "       34, 63, 31, 18, 35, 39, 69, 71, 48, 39, 67, 26, 64, 23, 51, 53, 55,\n",
       "       35, 77, 50, 63, 77, 40, 50, 40, 44, 33, 79, 61, 33, 17, 69, 50, 31,\n",
       "       76, 56, 51, 48, 19, 48, 29, 36, 63, 35, 71, 79, 23, 22, 18, 32, 79,\n",
       "       48, 63, 27, 74, 66, 37, 70, 37, 61, 45, 53, 53, 60, 66, 69, 23, 42,\n",
       "       42, 49, 36, 45, 48, 43, 62, 79, 48, 20, 75, 76, 63, 34, 19, 50, 79,\n",
       "       64, 79, 32, 59, 43, 45, 44, 61, 68, 21, 50, 75, 56, 52, 39, 44, 64,\n",
       "       61, 68, 46, 50, 75, 48, 67, 78, 76, 36, 47, 38, 48, 79, 18, 79, 33,\n",
       "       40, 57, 46, 69, 73, 18, 55, 61, 39, 65, 47, 62, 37, 38, 17, 78, 42,\n",
       "       57, 17, 41, 32, 55, 48, 24, 58, 69, 63, 54, 44, 57, 70, 41, 50, 65,\n",
       "       40, 39, 28, 75, 73, 22, 72, 51, 60, 35, 16, 23, 79, 61, 31, 29, 27,\n",
       "       66, 38, 30, 43, 49, 17, 47, 38, 78, 37, 66, 40, 73, 78, 77, 76, 37,\n",
       "       73, 73, 37, 64, 67, 57, 21, 30, 69, 58, 75, 52, 48, 23, 68, 75, 59,\n",
       "       59, 20, 54, 19, 21, 60, 47, 67, 45, 62, 50, 70, 55, 67, 31, 28, 65,\n",
       "       75, 57, 45, 34, 32, 71, 78, 34, 43, 73, 70, 41, 52, 41, 68, 77, 38,\n",
       "       78, 24, 27, 68, 16, 73, 73, 16, 62, 49, 47, 77, 69, 63, 40, 55, 60,\n",
       "       68, 16, 31, 76, 54, 79, 78, 20, 37, 44, 70, 18, 27, 41, 31, 66, 52,\n",
       "       37, 72, 44, 29, 43, 20, 62, 64, 45, 61, 77, 67, 20, 27, 31, 41, 41,\n",
       "       63, 36, 54, 51, 48, 77, 45, 52, 38, 73, 25, 69, 20, 51, 49, 67, 46,\n",
       "       25, 73, 34, 73, 47, 16, 71, 20, 60, 19, 31, 39, 31, 70, 17, 64, 43,\n",
       "       79, 47, 42, 35, 39, 27, 65, 50, 75, 48, 48, 76, 66, 58, 52, 27, 18,\n",
       "       16, 48, 55, 25, 58, 59, 44, 28, 27, 46, 61, 17, 76, 66, 65, 50, 38,\n",
       "       32, 41, 23, 44, 41, 25, 41, 77, 49, 66, 56, 22, 19, 73, 68, 65, 60,\n",
       "       26, 44, 71, 51, 40, 36, 76, 72, 51, 25, 52, 24, 39, 79, 50, 64, 50,\n",
       "       63, 51, 33, 64, 54, 47, 39, 38, 77, 47, 52, 27, 64, 70, 28, 38, 40,\n",
       "       50, 56, 45, 32, 64, 77, 35, 63, 40, 37, 28, 74, 34, 64, 51, 27, 76,\n",
       "       56, 34, 27, 24, 22, 43, 29, 46, 79, 67, 34, 73, 62, 31, 68, 20, 50,\n",
       "       27, 40, 67, 74, 36, 51, 68, 38, 31, 72, 54, 60, 68, 57, 73, 54, 29,\n",
       "       46, 73, 20, 50, 38, 44, 58, 26, 33, 62, 27, 24, 25, 73, 59, 32, 76,\n",
       "       53, 22, 61, 28, 55, 57, 24, 65, 42, 73, 17, 20, 44, 52, 53, 34, 23,\n",
       "       63, 60, 16, 37, 67, 32, 78, 22, 40, 60, 19, 51, 21, 75, 46, 34, 76,\n",
       "       59, 69, 54, 42, 25, 41, 34, 54, 77, 18, 60, 28, 65, 43, 77, 73, 35,\n",
       "       43, 23, 76, 78, 56, 54, 16, 18, 28, 43, 77, 72, 78, 75, 64, 40, 71,\n",
       "       48, 53, 68, 21, 73, 59, 60, 47, 60, 76, 62, 36, 31, 69, 36, 26, 75,\n",
       "       52, 51, 50, 34, 35, 72, 33, 62, 56, 64, 29, 30, 46, 16, 68, 69, 69,\n",
       "       18, 31, 38, 72, 26, 27, 25, 47, 31, 23, 53, 27, 39, 43, 68, 23, 73,\n",
       "       43, 51, 41, 23, 73, 75, 65, 43, 43, 52, 56, 51, 79, 42])"
      ]
     },
     "execution_count": 39,
     "metadata": {},
     "output_type": "execute_result"
    }
   ],
   "source": [
    "ages"
   ]
  },
  {
   "cell_type": "code",
   "execution_count": 40,
   "id": "99abc7ea-41b1-4b70-92e8-fc2f9adebe73",
   "metadata": {},
   "outputs": [
    {
     "name": "stdout",
     "output_type": "stream",
     "text": [
      "The Mode is \n"
     ]
    },
    {
     "data": {
      "text/plain": [
       "ModeResult(mode=77, count=29)"
      ]
     },
     "execution_count": 40,
     "metadata": {},
     "output_type": "execute_result"
    }
   ],
   "source": [
    "from scipy import stats\n",
    "print('The Mode is ')\n",
    "stats.mode(ages)"
   ]
  },
  {
   "cell_type": "markdown",
   "id": "8d7f2a0e-4ab1-462e-9d6f-e922f1c40e8f",
   "metadata": {},
   "source": [
    "### Mode is just the number which count is highest"
   ]
  },
  {
   "cell_type": "markdown",
   "id": "09d11e03-ba67-4fb0-8cee-d5b9d7f877ba",
   "metadata": {},
   "source": [
    "## Some exercise with other distributions"
   ]
  },
  {
   "cell_type": "code",
   "execution_count": 44,
   "id": "db3ad9d4-6b06-4b89-b535-ac4821126258",
   "metadata": {},
   "outputs": [],
   "source": [
    "\n",
    "\n",
    "sales = np.random.exponential(scale=5, size= 10000)"
   ]
  },
  {
   "cell_type": "code",
   "execution_count": 46,
   "id": "498bee77-eeb9-4100-ba89-2e5f30bae332",
   "metadata": {},
   "outputs": [
    {
     "data": {
      "image/png": "[encoded data removed]",
      "text/plain": [
       "<Figure size 640x480 with 1 Axes>"
      ]
     },
     "metadata": {},
     "output_type": "display_data"
    }
   ],
   "source": [
    "plt.hist(sales, 100)\n",
    "plt.show()"
   ]
  },
  {
   "cell_type": "code",
   "execution_count": 47,
   "id": "9782bf60-9032-4fb6-a5b9-5346d2d12041",
   "metadata": {},
   "outputs": [
    {
     "data": {
      "text/plain": [
       "4.8870185320162465"
      ]
     },
     "execution_count": 47,
     "metadata": {},
     "output_type": "execute_result"
    }
   ],
   "source": [
    "np.mean(sales)"
   ]
  },
  {
   "cell_type": "code",
   "execution_count": 48,
   "id": "7177f252-1ae1-4bf3-82fa-a5415aad7df3",
   "metadata": {},
   "outputs": [
    {
     "data": {
      "text/plain": [
       "3.3854046084932645"
      ]
     },
     "execution_count": 48,
     "metadata": {},
     "output_type": "execute_result"
    }
   ],
   "source": [
    "np.median(sales)"
   ]
  },
  {
   "cell_type": "code",
   "execution_count": 50,
   "id": "e19e30fd-a567-4de0-b3fb-b2928ecc46a4",
   "metadata": {},
   "outputs": [
    {
     "data": {
      "text/plain": [
       "ModeResult(mode=5.817411525216162e-05, count=1)"
      ]
     },
     "execution_count": 50,
     "metadata": {},
     "output_type": "execute_result"
    }
   ],
   "source": [
    "stats.mode(sales)"
   ]
  },
  {
   "cell_type": "code",
   "execution_count": 54,
   "id": "4dbcade4-d537-4b6d-abb8-7917ddea6394",
   "metadata": {},
   "outputs": [],
   "source": [
    "new_sales = np.append(sales, 50000)"
   ]
  },
  {
   "cell_type": "code",
   "execution_count": 55,
   "id": "32d09fd7-f502-47ce-9a9d-6bd715c183ef",
   "metadata": {},
   "outputs": [
    {
     "data": {
      "text/plain": [
       "9.886029929023344"
      ]
     },
     "execution_count": 55,
     "metadata": {},
     "output_type": "execute_result"
    }
   ],
   "source": [
    "np.mean(new_sales)"
   ]
  },
  {
   "cell_type": "code",
   "execution_count": 56,
   "id": "4fc336da-c2fd-4fb9-b971-6b0c078a00db",
   "metadata": {},
   "outputs": [
    {
     "data": {
      "text/plain": [
       "3.3856607823883875"
      ]
     },
     "execution_count": 56,
     "metadata": {},
     "output_type": "execute_result"
    }
   ],
   "source": [
    "np.median(new_sales)"
   ]
  },
  {
   "cell_type": "code",
   "execution_count": 57,
   "id": "b32a1a41-cd58-4406-bb22-8a71dc9ba375",
   "metadata": {},
   "outputs": [
    {
     "data": {
      "text/plain": [
       "ModeResult(mode=5.817411525216162e-05, count=1)"
      ]
     },
     "execution_count": 57,
     "metadata": {},
     "output_type": "execute_result"
    }
   ],
   "source": [
    "stats.mode(new_sales)"
   ]
  },
  {
   "cell_type": "code",
   "execution_count": null,
   "id": "b51b3e6c-3fe0-423f-82b2-70b2f448b493",
   "metadata": {},
   "outputs": [],
   "source": []
  }
 ],
 "metadata": {
  "kernelspec": {
   "display_name": "conda_python3",
   "language": "python",
   "name": "conda_python3"
  },
  "language_info": {
   "codemirror_mode": {
    "name": "ipython",
    "version": 3
   },
   "file_extension": ".py",
   "mimetype": "text/x-python",
   "name": "python",
   "nbconvert_exporter": "python",
   "pygments_lexer": "ipython3",
   "version": "3.10.18"
  }
 },
 "nbformat": 4,
 "nbformat_minor": 5
}
