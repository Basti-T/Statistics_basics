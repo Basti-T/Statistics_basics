{
 "cells": [
  {
   "cell_type": "markdown",
   "id": "3e52377e-7222-442d-b9cb-f2bcbf3b6b77",
   "metadata": {},
   "source": [
    "# Standard Deviation and Variance"
   ]
  },
  {
   "cell_type": "markdown",
   "id": "42d863a2-2001-4410-bea8-b9e8e6ad18ff",
   "metadata": {},
   "source": [
    "## Importing the Libraries"
   ]
  },
  {
   "cell_type": "code",
   "execution_count": 1,
   "id": "8a8e6265-2451-4a1f-b241-7bed21c87490",
   "metadata": {},
   "outputs": [
    {
     "name": "stderr",
     "output_type": "stream",
     "text": [
      "Matplotlib is building the font cache; this may take a moment.\n"
     ]
    },
    {
     "name": "stdout",
     "output_type": "stream",
     "text": [
      "Importing successful\n"
     ]
    }
   ],
   "source": [
    "try:\n",
    "    import matplotlib.pyplot as plt\n",
    "    import numpy as np\n",
    "    print('Importing successful')\n",
    "except ImportError as e:\n",
    "    print(f\"Import failed: {e}\")\n"
   ]
  },
  {
   "cell_type": "markdown",
   "id": "25d653c1-d5bc-437f-a1b4-8fbc5435da1f",
   "metadata": {},
   "source": [
    "## Build a Random sample of Spendings in normal Distribution"
   ]
  },
  {
   "cell_type": "code",
   "execution_count": 53,
   "id": "44db0dfb-8129-4b15-a753-d55d6fed9d93",
   "metadata": {},
   "outputs": [],
   "source": [
    "spending = np.random.normal(300, 50, 10000)\n"
   ]
  },
  {
   "cell_type": "markdown",
   "id": "5e0e0b4f-3b8e-4278-8e41-fbd26aebec66",
   "metadata": {},
   "source": [
    "## Visualize in a Histogram"
   ]
  },
  {
   "cell_type": "code",
   "execution_count": 54,
   "id": "ce12e234-3998-4dd1-9550-3bfe4b25d2f2",
   "metadata": {},
   "outputs": [
    {
     "data": {
      "image/png": "[encoded data removed]",
      "text/plain": [
       "<Figure size 640x480 with 1 Axes>"
      ]
     },
     "metadata": {},
     "output_type": "display_data"
    }
   ],
   "source": [
    "plt.hist(spending, 50)\n",
    "plt.show()"
   ]
  },
  {
   "cell_type": "markdown",
   "id": "3c2af8f9-bb48-480a-bdb1-1520b1b4805d",
   "metadata": {},
   "source": [
    "## Calculate STD and VAR"
   ]
  },
  {
   "cell_type": "code",
   "execution_count": 55,
   "id": "3140c544-e626-4892-ad86-22b72cd99060",
   "metadata": {},
   "outputs": [
    {
     "data": {
      "text/plain": [
       "49.37699046330534"
      ]
     },
     "execution_count": 55,
     "metadata": {},
     "output_type": "execute_result"
    }
   ],
   "source": [
    "spending.std()"
   ]
  },
  {
   "cell_type": "code",
   "execution_count": 56,
   "id": "be16ec0f-4f2d-4731-a973-5a17205a6c96",
   "metadata": {},
   "outputs": [
    {
     "data": {
      "text/plain": [
       "2438.0871872133466"
      ]
     },
     "execution_count": 56,
     "metadata": {},
     "output_type": "execute_result"
    }
   ],
   "source": [
    "spending.var()"
   ]
  },
  {
   "cell_type": "markdown",
   "id": "8c008c1d-9846-4582-ba4e-f7feed9bfe18",
   "metadata": {},
   "source": [
    "## Check if it is correct"
   ]
  },
  {
   "cell_type": "code",
   "execution_count": 57,
   "id": "7d030295-9d81-4734-9bdc-d794817af6ef",
   "metadata": {},
   "outputs": [],
   "source": [
    "std_calc = np.sqrt(spending.var())"
   ]
  },
  {
   "cell_type": "code",
   "execution_count": 58,
   "id": "cb884f6e-3c8e-4376-912e-b2960872fc2f",
   "metadata": {},
   "outputs": [
    {
     "data": {
      "text/plain": [
       "49.37699046330534"
      ]
     },
     "execution_count": 58,
     "metadata": {},
     "output_type": "execute_result"
    }
   ],
   "source": [
    "std_calc"
   ]
  },
  {
   "cell_type": "code",
   "execution_count": null,
   "id": "9c09039d-9085-4487-9307-523ee386d1d1",
   "metadata": {},
   "outputs": [],
   "source": []
  }
 ],
 "metadata": {
  "kernelspec": {
   "display_name": "conda_python3",
   "language": "python",
   "name": "conda_python3"
  },
  "language_info": {
   "codemirror_mode": {
    "name": "ipython",
    "version": 3
   },
   "file_extension": ".py",
   "mimetype": "text/x-python",
   "name": "python",
   "nbconvert_exporter": "python",
   "pygments_lexer": "ipython3",
   "version": "3.10.18"
  }
 },
 "nbformat": 4,
 "nbformat_minor": 5
}
